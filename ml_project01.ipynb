{
  "nbformat": 4,
  "nbformat_minor": 0,
  "metadata": {
    "colab": {
      "name": "ml_project01.ipynb",
      "provenance": [],
      "collapsed_sections": [],
      "authorship_tag": "ABX9TyNsJ88/ulW7fGpn1oUxfhkZ",
      "include_colab_link": true
    },
    "kernelspec": {
      "name": "python3",
      "display_name": "Python 3"
    },
    "language_info": {
      "name": "python"
    }
  },
  "cells": [
    {
      "cell_type": "markdown",
      "metadata": {
        "id": "view-in-github",
        "colab_type": "text"
      },
      "source": [
        "<a href=\"https://colab.research.google.com/github/fredagbona/ml_project01/blob/main/ml_project01.ipynb\" target=\"_parent\"><img src=\"https://colab.research.google.com/assets/colab-badge.svg\" alt=\"Open In Colab\"/></a>"
      ]
    },
    {
      "cell_type": "code",
      "execution_count": 2,
      "metadata": {
        "colab": {
          "base_uri": "https://localhost:8080/"
        },
        "id": "IckG8H5C7Zjx",
        "outputId": "84a15fd3-91c8-43c2-f5b1-84acf0e0a344"
      },
      "outputs": [
        {
          "output_type": "stream",
          "name": "stdout",
          "text": [
            "Épaisseur : 703687441.77664 mètres\n"
          ]
        }
      ],
      "source": [
        "THICKNESS = 0.00008\n",
        "folded_thickness = THICKNESS * 2**43\n",
        "print(\"Épaisseur : {} mètres\".format(folded_thickness))"
      ]
    },
    {
      "cell_type": "code",
      "source": [
        "# Conversion en kilomètres\n",
        "print(\"Épaisseur : {:.2f} kilomètres\".format(folded_thickness / 1000))"
      ],
      "metadata": {
        "colab": {
          "base_uri": "https://localhost:8080/"
        },
        "id": "T_W1FLO__gaT",
        "outputId": "e6c32faa-2931-4fa2-d336-6cb398b23736"
      },
      "execution_count": 5,
      "outputs": [
        {
          "output_type": "stream",
          "name": "stdout",
          "text": [
            "Épaisseur : 703687.44 kilomètres\n"
          ]
        }
      ]
    },
    {
      "cell_type": "code",
      "source": [
        "# Créer le même programme avec une instruction for\n",
        "THICKNESS = 0.00008\n",
        "sum = 1\n",
        "for i in range(43):\n",
        "  sum = sum * 2\n",
        "THICKNESS = THICKNESS * sum\n",
        "print(\"Épaisseur : {:.2f} kilomètres\".format(THICKNESS / 1000))\n"
      ],
      "metadata": {
        "colab": {
          "base_uri": "https://localhost:8080/"
        },
        "id": "f35I0SJk_5fO",
        "outputId": "837e2d82-8070-4378-a8f2-c034c6627a56"
      },
      "execution_count": 8,
      "outputs": [
        {
          "output_type": "stream",
          "name": "stdout",
          "text": [
            "Épaisseur : 703687.44 kilomètres\n"
          ]
        }
      ]
    },
    {
      "cell_type": "code",
      "source": [
        "# verify exceution time\n",
        "import time\n",
        "start = time.time()\n",
        "THICKNESS = 0.00008\n",
        "folded_thickness = THICKNESS * 2**43\n",
        "print(\"Épaisseur : {} mètres\".format(folded_thickness))\n",
        "elapsed_time = time.time() - start\n",
        "print(\"time : {}[s]\".format(elapsed_time))\n",
        "print(\"\\n\")\n",
        "\n",
        "# comparer avec \n",
        "start = time.time()\n",
        "\n",
        "sum = 1\n",
        "for i in range(43):\n",
        "  sum = sum*2\n",
        "THICKNESS = THICKNESS*sum\n",
        "\n",
        "print(\"Thickness: {: .2f} kilometers\".format(THICKNESS / 1000))\n",
        "\n",
        "elapsed_time = time.time() - start\n",
        "print(\"time : {}[s]\".format(elapsed_time))\n"
      ],
      "metadata": {
        "colab": {
          "base_uri": "https://localhost:8080/"
        },
        "id": "hIM78EYvAxuu",
        "outputId": "770936f2-81a8-444d-f06b-551865a57773"
      },
      "execution_count": 2,
      "outputs": [
        {
          "output_type": "stream",
          "name": "stdout",
          "text": [
            "Épaisseur : 703687441.77664 mètres\n",
            "time : 0.002416849136352539[s]\n",
            "\n",
            "\n",
            "Thickness:  703687.44 kilometers\n",
            "time : 0.00035953521728515625[s]\n"
          ]
        }
      ]
    },
    {
      "cell_type": "code",
      "source": [
        "# Prblème 5\n",
        "\n",
        "liste = []\n",
        "\n",
        "THICKNESS = 0.00008\n",
        "sum = 1\n",
        "for i in range(43):\n",
        "  sum = sum*2\n",
        "  liste.append(sum*THICKNESS)\n",
        "print(len(liste))\n"
      ],
      "metadata": {
        "colab": {
          "base_uri": "https://localhost:8080/"
        },
        "id": "6Naq9yI6CGEc",
        "outputId": "617e7bec-2483-49e4-9e03-371bb56f4b9c"
      },
      "execution_count": 3,
      "outputs": [
        {
          "output_type": "stream",
          "name": "stdout",
          "text": [
            "43\n"
          ]
        }
      ]
    },
    {
      "cell_type": "code",
      "source": [
        "# Problème 6\n",
        "import matplotlib.pyplot as plt\n",
        "%matplotlib inline\n",
        "# Display the graph. Title and axis label name.\n",
        "plt.title(\"thickness of folded paper\")\n",
        "plt.xlabel(\"number of folds\")\n",
        "plt.ylabel(\"thickness [m]\")\n",
        "plt.plot(liste)  # Enter the variable name of the list in \"List name\"\n",
        "plt.show()"
      ],
      "metadata": {
        "colab": {
          "base_uri": "https://localhost:8080/",
          "height": 295
        },
        "id": "O-V5dF9HnlY5",
        "outputId": "23d86e84-56dc-4239-b14e-bfc2c6e34bc3"
      },
      "execution_count": 4,
      "outputs": [
        {
          "output_type": "display_data",
          "data": {
            "image/png": "[encoded data removed]",
            "text/plain": [
              "<Figure size 432x288 with 1 Axes>"
            ]
          },
          "metadata": {
            "needs_background": "light"
          }
        }
      ]
    },
    {
      "cell_type": "code",
      "source": [
        "# Display a red line graph.\n",
        "print(\"Solution au problème 7 \\n\")\n",
        "plt.title(\"thickness of folded paper\")\n",
        "plt.xlabel(\"number of folds\")\n",
        "plt.ylabel(\"thickness [m]\")\n",
        "plt.plot(liste, color='red')\n",
        "plt.show()"
      ],
      "metadata": {
        "colab": {
          "base_uri": "https://localhost:8080/",
          "height": 329
        },
        "id": "gHRCrENVnr50",
        "outputId": "e4fa7f43-d16d-4bf4-9942-a6c993939fc8"
      },
      "execution_count": 5,
      "outputs": [
        {
          "output_type": "stream",
          "name": "stdout",
          "text": [
            "Solution au problème 7 \n",
            "\n"
          ]
        },
        {
          "output_type": "display_data",
          "data": {
            "image/png": "[encoded data removed]",
            "text/plain": [
              "<Figure size 432x288 with 1 Axes>"
            ]
          },
          "metadata": {
            "needs_background": "light"
          }
        }
      ]
    }
  ]
}